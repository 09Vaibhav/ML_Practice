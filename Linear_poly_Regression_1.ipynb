{
  "nbformat": 4,
  "nbformat_minor": 0,
  "metadata": {
    "colab": {
      "provenance": [],
      "authorship_tag": "ABX9TyPah4KHz7wZPmjyLsLZbUoK",
      "include_colab_link": true
    },
    "kernelspec": {
      "name": "python3",
      "display_name": "Python 3"
    },
    "language_info": {
      "name": "python"
    }
  },
  "cells": [
    {
      "cell_type": "markdown",
      "metadata": {
        "id": "view-in-github",
        "colab_type": "text"
      },
      "source": [
        "<a href=\"https://colab.research.google.com/github/09Vaibhav/ML_Practice/blob/main/Linear_poly_Regression_1.ipynb\" target=\"_parent\"><img src=\"https://colab.research.google.com/assets/colab-badge.svg\" alt=\"Open In Colab\"/></a>"
      ]
    },
    {
      "cell_type": "code",
      "execution_count": 1,
      "metadata": {
        "id": "qpfO7J15AE0A"
      },
      "outputs": [],
      "source": [
        "import numpy as np\n",
        "import pandas as pd \n",
        "import matplotlib.pyplot as plt\n",
        "import seaborn as sns"
      ]
    },
    {
      "cell_type": "code",
      "source": [
        "from google.colab import drive\n",
        "drive.mount('/content/drive')"
      ],
      "metadata": {
        "colab": {
          "base_uri": "https://localhost:8080/"
        },
        "id": "piHmIh_yAb65",
        "outputId": "0aacb188-b7a6-4601-e855-336eaae76961"
      },
      "execution_count": 2,
      "outputs": [
        {
          "output_type": "stream",
          "name": "stdout",
          "text": [
            "Mounted at /content/drive\n"
          ]
        }
      ]
    },
    {
      "cell_type": "code",
      "source": [
        "data = pd.read_csv(\"/content/drive/MyDrive/practice/Advertising.csv\")"
      ],
      "metadata": {
        "id": "rLIxHqG4AuUA"
      },
      "execution_count": 3,
      "outputs": []
    },
    {
      "cell_type": "code",
      "source": [
        "df = pd.DataFrame(data)"
      ],
      "metadata": {
        "id": "e3t0zKqQBG0w"
      },
      "execution_count": 4,
      "outputs": []
    },
    {
      "cell_type": "code",
      "source": [
        "df.head()"
      ],
      "metadata": {
        "colab": {
          "base_uri": "https://localhost:8080/",
          "height": 206
        },
        "id": "Fm_0W-n0BL2w",
        "outputId": "a3ea70fb-8570-4dda-eb9f-b586f949de58"
      },
      "execution_count": 5,
      "outputs": [
        {
          "output_type": "execute_result",
          "data": {
            "text/plain": [
              "      TV  radio  newspaper  sales\n",
              "0  230.1   37.8       69.2   22.1\n",
              "1   44.5   39.3       45.1   10.4\n",
              "2   17.2   45.9       69.3    9.3\n",
              "3  151.5   41.3       58.5   18.5\n",
              "4  180.8   10.8       58.4   12.9"
            ],
            "text/html": [
              "\n",
              "  <div id=\"df-49cd7a8f-faf3-4852-8922-1d75b37ef4ee\">\n",
              "    <div class=\"colab-df-container\">\n",
              "      <div>\n",
              "<style scoped>\n",
              "    .dataframe tbody tr th:only-of-type {\n",
              "        vertical-align: middle;\n",
              "    }\n",
              "\n",
              "    .dataframe tbody tr th {\n",
              "        vertical-align: top;\n",
              "    }\n",
              "\n",
              "    .dataframe thead th {\n",
              "        text-align: right;\n",
              "    }\n",
              "</style>\n",
              "<table border=\"1\" class=\"dataframe\">\n",
              "  <thead>\n",
              "    <tr style=\"text-align: right;\">\n",
              "      <th></th>\n",
              "      <th>TV</th>\n",
              "      <th>radio</th>\n",
              "      <th>newspaper</th>\n",
              "      <th>sales</th>\n",
              "    </tr>\n",
              "  </thead>\n",
              "  <tbody>\n",
              "    <tr>\n",
              "      <th>0</th>\n",
              "      <td>230.1</td>\n",
              "      <td>37.8</td>\n",
              "      <td>69.2</td>\n",
              "      <td>22.1</td>\n",
              "    </tr>\n",
              "    <tr>\n",
              "      <th>1</th>\n",
              "      <td>44.5</td>\n",
              "      <td>39.3</td>\n",
              "      <td>45.1</td>\n",
              "      <td>10.4</td>\n",
              "    </tr>\n",
              "    <tr>\n",
              "      <th>2</th>\n",
              "      <td>17.2</td>\n",
              "      <td>45.9</td>\n",
              "      <td>69.3</td>\n",
              "      <td>9.3</td>\n",
              "    </tr>\n",
              "    <tr>\n",
              "      <th>3</th>\n",
              "      <td>151.5</td>\n",
              "      <td>41.3</td>\n",
              "      <td>58.5</td>\n",
              "      <td>18.5</td>\n",
              "    </tr>\n",
              "    <tr>\n",
              "      <th>4</th>\n",
              "      <td>180.8</td>\n",
              "      <td>10.8</td>\n",
              "      <td>58.4</td>\n",
              "      <td>12.9</td>\n",
              "    </tr>\n",
              "  </tbody>\n",
              "</table>\n",
              "</div>\n",
              "      <button class=\"colab-df-convert\" onclick=\"convertToInteractive('df-49cd7a8f-faf3-4852-8922-1d75b37ef4ee')\"\n",
              "              title=\"Convert this dataframe to an interactive table.\"\n",
              "              style=\"display:none;\">\n",
              "        \n",
              "  <svg xmlns=\"http://www.w3.org/2000/svg\" height=\"24px\"viewBox=\"0 0 24 24\"\n",
              "       width=\"24px\">\n",
              "    <path d=\"M0 0h24v24H0V0z\" fill=\"none\"/>\n",
              "    <path d=\"M18.56 5.44l.94 2.06.94-2.06 2.06-.94-2.06-.94-.94-2.06-.94 2.06-2.06.94zm-11 1L8.5 8.5l.94-2.06 2.06-.94-2.06-.94L8.5 2.5l-.94 2.06-2.06.94zm10 10l.94 2.06.94-2.06 2.06-.94-2.06-.94-.94-2.06-.94 2.06-2.06.94z\"/><path d=\"M17.41 7.96l-1.37-1.37c-.4-.4-.92-.59-1.43-.59-.52 0-1.04.2-1.43.59L10.3 9.45l-7.72 7.72c-.78.78-.78 2.05 0 2.83L4 21.41c.39.39.9.59 1.41.59.51 0 1.02-.2 1.41-.59l7.78-7.78 2.81-2.81c.8-.78.8-2.07 0-2.86zM5.41 20L4 18.59l7.72-7.72 1.47 1.35L5.41 20z\"/>\n",
              "  </svg>\n",
              "      </button>\n",
              "      \n",
              "  <style>\n",
              "    .colab-df-container {\n",
              "      display:flex;\n",
              "      flex-wrap:wrap;\n",
              "      gap: 12px;\n",
              "    }\n",
              "\n",
              "    .colab-df-convert {\n",
              "      background-color: #E8F0FE;\n",
              "      border: none;\n",
              "      border-radius: 50%;\n",
              "      cursor: pointer;\n",
              "      display: none;\n",
              "      fill: #1967D2;\n",
              "      height: 32px;\n",
              "      padding: 0 0 0 0;\n",
              "      width: 32px;\n",
              "    }\n",
              "\n",
              "    .colab-df-convert:hover {\n",
              "      background-color: #E2EBFA;\n",
              "      box-shadow: 0px 1px 2px rgba(60, 64, 67, 0.3), 0px 1px 3px 1px rgba(60, 64, 67, 0.15);\n",
              "      fill: #174EA6;\n",
              "    }\n",
              "\n",
              "    [theme=dark] .colab-df-convert {\n",
              "      background-color: #3B4455;\n",
              "      fill: #D2E3FC;\n",
              "    }\n",
              "\n",
              "    [theme=dark] .colab-df-convert:hover {\n",
              "      background-color: #434B5C;\n",
              "      box-shadow: 0px 1px 3px 1px rgba(0, 0, 0, 0.15);\n",
              "      filter: drop-shadow(0px 1px 2px rgba(0, 0, 0, 0.3));\n",
              "      fill: #FFFFFF;\n",
              "    }\n",
              "  </style>\n",
              "\n",
              "      <script>\n",
              "        const buttonEl =\n",
              "          document.querySelector('#df-49cd7a8f-faf3-4852-8922-1d75b37ef4ee button.colab-df-convert');\n",
              "        buttonEl.style.display =\n",
              "          google.colab.kernel.accessAllowed ? 'block' : 'none';\n",
              "\n",
              "        async function convertToInteractive(key) {\n",
              "          const element = document.querySelector('#df-49cd7a8f-faf3-4852-8922-1d75b37ef4ee');\n",
              "          const dataTable =\n",
              "            await google.colab.kernel.invokeFunction('convertToInteractive',\n",
              "                                                     [key], {});\n",
              "          if (!dataTable) return;\n",
              "\n",
              "          const docLinkHtml = 'Like what you see? Visit the ' +\n",
              "            '<a target=\"_blank\" href=https://colab.research.google.com/notebooks/data_table.ipynb>data table notebook</a>'\n",
              "            + ' to learn more about interactive tables.';\n",
              "          element.innerHTML = '';\n",
              "          dataTable['output_type'] = 'display_data';\n",
              "          await google.colab.output.renderOutput(dataTable, element);\n",
              "          const docLink = document.createElement('div');\n",
              "          docLink.innerHTML = docLinkHtml;\n",
              "          element.appendChild(docLink);\n",
              "        }\n",
              "      </script>\n",
              "    </div>\n",
              "  </div>\n",
              "  "
            ]
          },
          "metadata": {},
          "execution_count": 5
        }
      ]
    },
    {
      "cell_type": "code",
      "source": [
        "X = df.drop('sales',axis=1)"
      ],
      "metadata": {
        "id": "v2OaZ__1BSUA"
      },
      "execution_count": 7,
      "outputs": []
    },
    {
      "cell_type": "code",
      "source": [
        "Y = df['sales']"
      ],
      "metadata": {
        "id": "5nlsbPMbBeYw"
      },
      "execution_count": 8,
      "outputs": []
    },
    {
      "cell_type": "markdown",
      "source": [
        "**LINEAR** **REGRESSION**"
      ],
      "metadata": {
        "id": "sqYUcNGUBrYA"
      }
    },
    {
      "cell_type": "code",
      "source": [
        "from sklearn.model_selection import train_test_split\n"
      ],
      "metadata": {
        "id": "bTneHM9CBmxA"
      },
      "execution_count": 9,
      "outputs": []
    },
    {
      "cell_type": "code",
      "source": [
        "x_train,x_test,y_train,y_test = train_test_split(X,Y,test_size = 0.3,random_state = 42)"
      ],
      "metadata": {
        "id": "n6KgmLDGB8uh"
      },
      "execution_count": 17,
      "outputs": []
    },
    {
      "cell_type": "code",
      "source": [
        "from sklearn.linear_model import LinearRegression\n",
        "l_model = LinearRegression()\n",
        "l_model.fit(x_train,y_train)\n",
        "test_pred = l_model.predict(x_test)\n"
      ],
      "metadata": {
        "id": "9CdjEvTmCJQg"
      },
      "execution_count": 18,
      "outputs": []
    },
    {
      "cell_type": "code",
      "source": [
        "#error calculation\n",
        "from sklearn.metrics import mean_absolute_error,mean_squared_error\n",
        "mae = mean_absolute_error(y_test,test_pred)\n",
        "mse = mean_squared_error(y_test,test_pred)\n",
        "rmse = np.sqrt(mse)\n",
        "Y.mean()\n",
        "print('mae',mae)\n",
        "print('rmse',rmse)"
      ],
      "metadata": {
        "colab": {
          "base_uri": "https://localhost:8080/"
        },
        "id": "ejIk_BtjC7v5",
        "outputId": "a513cc70-9263-4661-ff5f-205ac44a78e7"
      },
      "execution_count": 19,
      "outputs": [
        {
          "output_type": "stream",
          "name": "stdout",
          "text": [
            "mae 1.5116692224549086\n",
            "rmse 1.9485372043446387\n"
          ]
        }
      ]
    },
    {
      "cell_type": "code",
      "source": [
        "#the residual plot for linear regression  is random and normally distributed \n",
        "sns.displot(residual,kde= True)  "
      ],
      "metadata": {
        "colab": {
          "base_uri": "https://localhost:8080/",
          "height": 386
        },
        "id": "sc3_H2d7I0ty",
        "outputId": "fa6e0b3b-1d92-4e69-ebc1-9ce7fc1ec2d4"
      },
      "execution_count": 23,
      "outputs": [
        {
          "output_type": "execute_result",
          "data": {
            "text/plain": [
              "<seaborn.axisgrid.FacetGrid at 0x7f434af870a0>"
            ]
          },
          "metadata": {},
          "execution_count": 23
        },
        {
          "output_type": "display_data",
          "data": {
            "text/plain": [
              "<Figure size 360x360 with 1 Axes>"
            ],
            "image/png": "[encoded data removed]"
          },
          "metadata": {
            "needs_background": "light"
          }
        }
      ]
    },
    {
      "cell_type": "code",
      "source": [
        "#even after calculating mae and rmse , we cannot say whether model is best fitted for linear regression or not \n",
        "#thats why we plot residual vs y_test , and if this scatter plot is random and not showing any pattern , thwm it says that model is linear , \n",
        "# if plot (residual vs y_test), shows any specific pattern , it means model is non linear\n",
        "residual = y_test - test_pred\n",
        "sns.scatterplot(y_test,residual)"
      ],
      "metadata": {
        "colab": {
          "base_uri": "https://localhost:8080/",
          "height": 351
        },
        "id": "Lidbmny9JSEC",
        "outputId": "1450e9a5-8bd0-4832-a319-dc3045997c7b"
      },
      "execution_count": 24,
      "outputs": [
        {
          "output_type": "stream",
          "name": "stderr",
          "text": [
            "/usr/local/lib/python3.8/dist-packages/seaborn/_decorators.py:36: FutureWarning: Pass the following variables as keyword args: x, y. From version 0.12, the only valid positional argument will be `data`, and passing other arguments without an explicit keyword will result in an error or misinterpretation.\n",
            "  warnings.warn(\n"
          ]
        },
        {
          "output_type": "execute_result",
          "data": {
            "text/plain": [
              "<matplotlib.axes._subplots.AxesSubplot at 0x7f4348375640>"
            ]
          },
          "metadata": {},
          "execution_count": 24
        },
        {
          "output_type": "display_data",
          "data": {
            "text/plain": [
              "<Figure size 432x288 with 1 Axes>"
            ],
            "image/png": "[encoded data removed]"
          },
          "metadata": {
            "needs_background": "light"
          }
        }
      ]
    },
    {
      "cell_type": "markdown",
      "source": [
        "**POLYNOMIAL** **REGRESSION**"
      ],
      "metadata": {
        "id": "difYD8BtK1C7"
      }
    },
    {
      "cell_type": "code",
      "source": [
        "from sklearn.preprocessing import PolynomialFeatures \n",
        "train_rmse_error = []\n",
        "test_rmse_error = []\n",
        "d_list = []\n",
        "for d in range(1,10):\n",
        "  poly_converter = PolynomialFeatures(degree = d,include_bias = False)\n",
        "  poly_features = poly_converter.fit_transform(X)\n",
        "  x_train,x_test,y_train,y_test = train_test_split(poly_features,Y,test_size = 0.3,random_state = 42)\n",
        "  model = LinearRegression()\n",
        "  model.fit(x_train,y_train)\n",
        "  test_pred = model.predict(x_test)\n",
        "  train_pred = model.predict(x_train)\n",
        "  rmse_test = np.sqrt(mean_squared_error(y_test,test_pred))\n",
        "  rmse_train = np.sqrt(mean_squared_error(y_train,train_pred))\n",
        "  train_rmse_error.append(rmse_train)\n",
        "  test_rmse_error.append(rmse_test)\n",
        "  d_list.append(d) \n",
        "plt.plot(d_list,train_rmse_error,label = 'TRAIN ERROR', color = 'red')\n",
        "plt.plot(d_list,test_rmse_error,label = 'TEST ERROR',color = 'green')\n",
        "plt.xlabel('deg of polynomial')\n",
        "plt.ylabel('rmse')\n",
        "plt.ylim(-1,5)\n",
        "plt.legend()\n",
        "\n",
        "\n",
        "#conclusion \n",
        "#from error vs model complexity plot , we get to know that after deg of polynomial = 3, the test error rmse is increasing , and\n",
        "#hence ,polynomial regression with  degree = 3 is best fit for the above data set than linear regression\n"
      ],
      "metadata": {
        "colab": {
          "base_uri": "https://localhost:8080/",
          "height": 300
        },
        "id": "6xxbjUnXKw7L",
        "outputId": "1bb5d58f-9bd4-4f92-9003-8d1a96e38861"
      },
      "execution_count": 43,
      "outputs": [
        {
          "output_type": "execute_result",
          "data": {
            "text/plain": [
              "<matplotlib.legend.Legend at 0x7f4343601e50>"
            ]
          },
          "metadata": {},
          "execution_count": 43
        },
        {
          "output_type": "display_data",
          "data": {
            "text/plain": [
              "<Figure size 432x288 with 1 Axes>"
            ],
            "image/png": "[encoded data removed]"
          },
          "metadata": {
            "needs_background": "light"
          }
        }
      ]
    },
    {
      "cell_type": "code",
      "source": [
        "final_poly_converter = PolynomialFeatures(degree = 3,include_bias = False)\n",
        "final_poly_features = final_poly_converter.fit_transform(X)\n",
        "final_model = LinearRegression()\n",
        "final_model.fit(final_poly_features,Y)\n"
      ],
      "metadata": {
        "colab": {
          "base_uri": "https://localhost:8080/"
        },
        "id": "zOPBjuz5ObET",
        "outputId": "3dbc5602-0102-4ad9-d098-bbf9859c2d16"
      },
      "execution_count": 45,
      "outputs": [
        {
          "output_type": "execute_result",
          "data": {
            "text/plain": [
              "LinearRegression()"
            ]
          },
          "metadata": {},
          "execution_count": 45
        }
      ]
    },
    {
      "cell_type": "code",
      "source": [
        "from joblib import dump ,load\n",
        "dump(final_poly_converter,\"/content/drive/MyDrive/practice/Advertising_model_converter.joblib\")\n",
        "dump(final_model,\"/content/drive/MyDrive/practice/Advertising_model.joblib\")\n",
        "loaded_conv = load(\"/content/drive/MyDrive/practice/Advertising_model_converter.joblib\")\n",
        "loaded_model = load(\"/content/drive/MyDrive/practice/Advertising_model.joblib\")"
      ],
      "metadata": {
        "id": "PTt1QoZth_jv"
      },
      "execution_count": 47,
      "outputs": []
    },
    {
      "cell_type": "code",
      "source": [
        "loaded_model.coef_"
      ],
      "metadata": {
        "colab": {
          "base_uri": "https://localhost:8080/"
        },
        "id": "gTvc--vjjQnH",
        "outputId": "6eee63ec-716c-4068-9ffd-13dbcd4d2839"
      },
      "execution_count": 49,
      "outputs": [
        {
          "output_type": "execute_result",
          "data": {
            "text/plain": [
              "array([ 8.96744296e-02,  3.87306507e-02,  1.40116785e-02, -4.39852533e-04,\n",
              "        1.38525353e-03, -2.11551525e-04, -5.78622015e-04, -3.39038010e-04,\n",
              "        2.30693236e-04,  7.62775843e-07, -1.21636828e-06,  7.24494002e-07,\n",
              "        1.79932497e-06, -1.51021227e-06, -1.14841391e-07,  3.32749144e-06,\n",
              "        4.93904244e-06,  2.67349509e-06, -2.30514930e-06])"
            ]
          },
          "metadata": {},
          "execution_count": 49
        }
      ]
    },
    {
      "cell_type": "code",
      "source": [
        "campaign = [[149,22,12]]\n",
        "transformed_data = loaded_conv.fit_transform(campaign)\n",
        "loaded_model.predict(transformed_data)"
      ],
      "metadata": {
        "colab": {
          "base_uri": "https://localhost:8080/"
        },
        "id": "6oyIkhrVjXI4",
        "outputId": "04c21042-1ecf-4266-e952-331c424732e1"
      },
      "execution_count": 51,
      "outputs": [
        {
          "output_type": "execute_result",
          "data": {
            "text/plain": [
              "array([14.64501014])"
            ]
          },
          "metadata": {},
          "execution_count": 51
        }
      ]
    },
    {
      "cell_type": "markdown",
      "source": [
        "**SCALING**\n",
        "Feature Scaling lead to increase in performance and also allow us to directly compare the model coefficients to each other "
      ],
      "metadata": {
        "id": "g0B-daRelJvx"
      }
    },
    {
      "cell_type": "code",
      "source": [
        "from sklearn.preprocessing import StandardScaler\n",
        "scaler = StandardScaler()\n",
        "scaler.fit(x_train)\n",
        "x_train = scaler.transform(x_train)\n",
        "x_test = scaler.transform(x_test)"
      ],
      "metadata": {
        "id": "6VmXIFGwlJcR"
      },
      "execution_count": 52,
      "outputs": []
    },
    {
      "cell_type": "markdown",
      "source": [
        "**REGULARIZATION**"
      ],
      "metadata": {
        "id": "x_cE6GbrkRL4"
      }
    },
    {
      "cell_type": "code",
      "source": [
        "#L2_REGULARIZATION with cross validation\n",
        "\n",
        "from sklearn.linear_model import RidgeCV\n",
        "ridge_model = RidgeCV(alphas=(0.1,1.0,10.0))\n",
        "ridge_model.fit(x_train,y_train)\n",
        "test_pred = ridge_model.predict(x_test)\n",
        "mae1 = mean_absolute_error(y_test,test_pred)\n",
        "mse1 = mean_squared_error(y_test,test_pred)\n",
        "rmse1 = np.sqrt(mse1)"
      ],
      "metadata": {
        "id": "I1GtkCEJkAgZ"
      },
      "execution_count": 56,
      "outputs": []
    },
    {
      "cell_type": "code",
      "source": [
        "print('mae',mae1)\n",
        "print('rmse',rmse1)"
      ],
      "metadata": {
        "colab": {
          "base_uri": "https://localhost:8080/"
        },
        "id": "_iSqhVotnlh5",
        "outputId": "33d3825b-8185-4859-e9e8-c4f1f1f27711"
      },
      "execution_count": 61,
      "outputs": [
        {
          "output_type": "stream",
          "name": "stdout",
          "text": [
            "mae 0.7128374052178083\n",
            "rmse 1.6156062513017073\n"
          ]
        }
      ]
    },
    {
      "cell_type": "code",
      "source": [
        "ridge_model.alpha_"
      ],
      "metadata": {
        "colab": {
          "base_uri": "https://localhost:8080/"
        },
        "id": "yKlYPxS-nvop",
        "outputId": "b2b668d8-7b5a-4319-afe0-f77838d32f22"
      },
      "execution_count": 58,
      "outputs": [
        {
          "output_type": "execute_result",
          "data": {
            "text/plain": [
              "0.1"
            ]
          },
          "metadata": {},
          "execution_count": 58
        }
      ]
    },
    {
      "cell_type": "code",
      "source": [
        "#L1_REGULARIZATION with cross validation\n",
        "\n",
        "from sklearn.linear_model import LassoCV\n",
        "Lasso_model = LassoCV(eps=0.1,n_alphas= 100,cv = 5)\n",
        "Lasso_model.fit(x_train,y_train)\n",
        "test_pred = Lasso_model.predict(x_test)\n",
        "mae2 = mean_absolute_error(y_test,test_pred)\n",
        "mse2 = mean_squared_error(y_test,test_pred)\n",
        "rmse2 = np.sqrt(mse2)"
      ],
      "metadata": {
        "id": "RthI1TZ5n9CZ"
      },
      "execution_count": 60,
      "outputs": []
    },
    {
      "cell_type": "code",
      "source": [
        "print('mae',mae2)\n",
        "print('rmse',rmse2)\n",
        "Lasso_model.alpha_"
      ],
      "metadata": {
        "colab": {
          "base_uri": "https://localhost:8080/"
        },
        "id": "DSh0JZgFo6Yh",
        "outputId": "2e17b095-d55a-4788-a2bd-45237a2753ea"
      },
      "execution_count": 62,
      "outputs": [
        {
          "output_type": "stream",
          "name": "stdout",
          "text": [
            "mae 0.6811456342837985\n",
            "rmse 1.0349127365478732\n"
          ]
        },
        {
          "output_type": "execute_result",
          "data": {
            "text/plain": [
              "0.4924531806474871"
            ]
          },
          "metadata": {},
          "execution_count": 62
        }
      ]
    },
    {
      "cell_type": "code",
      "source": [
        "ridge_model.coef_"
      ],
      "metadata": {
        "colab": {
          "base_uri": "https://localhost:8080/"
        },
        "id": "6rzVZ4RmpXiZ",
        "outputId": "b03f065e-2570-416a-f668-c8e4532cc828"
      },
      "execution_count": 64,
      "outputs": [
        {
          "output_type": "execute_result",
          "data": {
            "text/plain": [
              "array([ 5.54020585,  0.37459878,  0.757098  , -3.50357246,  3.69925673,\n",
              "       -0.35095792,  0.25570445,  0.34170196, -0.32318849, -1.28121839,\n",
              "       -1.42943459, -1.39166855,  1.10004394, -0.02464284,  0.48270094,\n",
              "       -0.04755845,  0.33929326, -0.6106555 , -0.49178547,  0.25266123,\n",
              "        0.39246949, -0.22125197, -2.08343973,  0.07164835, -0.14375879,\n",
              "        0.91164067, -0.43936549, -0.07692591,  0.35281559, -0.32632871,\n",
              "        0.23535936, -0.14800517, -0.36765909,  0.04621173,  0.6461969 ,\n",
              "        1.11863488,  0.32442191, -0.15704158,  0.56006988,  0.06237146,\n",
              "       -1.72340572,  0.15996558,  0.20062405, -0.09825228,  1.10940031,\n",
              "       -0.30138139, -0.31408868, -0.09591318,  0.15538151, -0.41704835,\n",
              "        0.03125876, -0.06459804,  0.01403663,  0.14878116,  0.42621107,\n",
              "        0.47648026,  0.86402274,  0.37767234,  0.58518875,  0.37026643,\n",
              "        0.1621047 , -0.08730054,  0.54374503,  0.20954776, -0.03998549,\n",
              "       -1.30269647,  0.28471775,  0.30011714,  0.05401327, -0.08921433,\n",
              "        1.20640863, -0.12145993, -0.33547646, -0.21722501, -0.10259355,\n",
              "        0.0590934 , -0.34795208, -0.10011388, -0.138346  ,  0.0824664 ,\n",
              "        0.24770452,  0.30517011,  0.44049201,  0.15085055,  0.26231936,\n",
              "        0.26321238,  0.42386509, -0.04557702,  0.16696966,  0.54332857,\n",
              "        0.20416571, -0.03788418,  0.02761123, -0.01049304,  0.49797095,\n",
              "        0.27344313,  0.04803104, -0.0183373 , -1.04265575,  0.2976102 ,\n",
              "        0.29108476,  0.14623395,  0.02706832, -0.01491445,  1.12206892,\n",
              "       -0.01738551, -0.29192409, -0.2086923 , -0.17858159, -0.12092008,\n",
              "       -0.01322916, -0.2019411 , -0.12783581, -0.17632413,  0.07838819,\n",
              "        0.2237304 ,  0.16810284,  0.13093718,  0.24030566, -0.13095447,\n",
              "       -0.3329312 ,  0.15306051, -0.04440873, -0.40124851,  0.16103344,\n",
              "        0.42410043, -0.30591811, -0.28824268,  0.07285506,  0.49086995,\n",
              "        0.05750567, -0.07993626, -0.07463136,  0.04667462, -0.03799919,\n",
              "        0.34537561,  0.17641833,  0.1080418 ,  0.07665822,  0.07607269,\n",
              "       -0.95771054,  0.19313128,  0.20113157,  0.15899119,  0.09344662,\n",
              "        0.05502894,  0.03797629,  0.87316718, -0.01803762, -0.22894044,\n",
              "       -0.10926378, -0.1387623 , -0.1926911 , -0.17028354, -0.08378656,\n",
              "       -0.04581841, -0.08811771, -0.13781685,  0.13373348,  0.24227395,\n",
              "        0.06097826, -0.13421847, -0.15474489, -0.00577926, -0.29516636,\n",
              "       -0.7824958 ,  0.10854528, -0.50515686, -0.60635889,  0.17990322,\n",
              "        0.06151626, -0.7077929 , -0.44076367,  0.11783793,  0.39431363,\n",
              "       -0.49404694, -0.41371046, -0.18376751,  0.08923041,  0.36490154,\n",
              "       -0.15722474, -0.25175392, -0.09359841,  0.03657054,  0.12973931,\n",
              "       -0.16032365,  0.10752192, -0.02612471,  0.04269409,  0.12073597,\n",
              "        0.14897767,  0.14265032, -1.01907266, -0.00959515,  0.05727673,\n",
              "        0.13760922,  0.13076819,  0.09220768,  0.06443683,  0.05085442,\n",
              "        0.50155929, -0.12416021, -0.18516054,  0.05417369,  0.01048744,\n",
              "       -0.15467969, -0.24573973, -0.22805661, -0.14305878,  0.08410638,\n",
              "       -0.02259006, -0.04883874,  0.26246506,  0.36588035,  0.07173541,\n",
              "       -0.29421797, -0.45989169, -0.40407743, -0.20741471])"
            ]
          },
          "metadata": {},
          "execution_count": 64
        }
      ]
    },
    {
      "cell_type": "code",
      "source": [
        "Lasso_model.coef_\n",
        "#lassocv model will result in reducing the dependence of model of maximum features by fitting it\n",
        "#such that most of the coeff of the model will be zero"
      ],
      "metadata": {
        "colab": {
          "base_uri": "https://localhost:8080/"
        },
        "id": "L6jaiU7Lpebp",
        "outputId": "76e13d12-244d-4402-95c6-00f0c54c7785"
      },
      "execution_count": 65,
      "outputs": [
        {
          "output_type": "execute_result",
          "data": {
            "text/plain": [
              "array([ 0.97675148,  0.        ,  0.        ,  0.        ,  3.8148913 ,\n",
              "        0.        ,  0.        ,  0.        ,  0.        ,  0.        ,\n",
              "        0.        ,  0.        ,  0.        ,  0.        ,  0.        ,\n",
              "        0.        ,  0.        ,  0.        ,  0.        ,  0.        ,\n",
              "        0.        ,  0.        ,  0.        ,  0.        ,  0.        ,\n",
              "        0.        ,  0.        ,  0.        ,  0.        ,  0.        ,\n",
              "        0.        ,  0.        ,  0.        ,  0.        ,  0.        ,\n",
              "        0.        ,  0.        ,  0.        ,  0.        ,  0.        ,\n",
              "        0.        ,  0.        ,  0.        ,  0.        ,  0.        ,\n",
              "        0.        ,  0.        ,  0.        ,  0.        ,  0.        ,\n",
              "        0.        ,  0.        ,  0.        ,  0.        ,  0.        ,\n",
              "        0.        ,  0.        ,  0.        ,  0.        ,  0.        ,\n",
              "        0.        ,  0.        ,  0.        ,  0.        ,  0.        ,\n",
              "        0.        ,  0.        ,  0.        ,  0.        ,  0.        ,\n",
              "        0.        ,  0.        ,  0.        ,  0.        ,  0.        ,\n",
              "        0.        ,  0.        ,  0.        ,  0.        ,  0.        ,\n",
              "        0.        ,  0.        ,  0.        ,  0.        ,  0.        ,\n",
              "        0.        ,  0.        ,  0.        ,  0.        ,  0.        ,\n",
              "        0.        ,  0.        ,  0.        ,  0.        ,  0.        ,\n",
              "        0.        ,  0.        ,  0.        ,  0.        ,  0.        ,\n",
              "        0.        ,  0.        ,  0.        ,  0.        ,  0.        ,\n",
              "        0.        ,  0.        ,  0.        ,  0.        ,  0.        ,\n",
              "        0.        ,  0.        ,  0.        ,  0.        ,  0.        ,\n",
              "        0.        ,  0.        ,  0.        ,  0.        ,  0.        ,\n",
              "        0.        ,  0.        ,  0.        ,  0.        ,  0.        ,\n",
              "        0.        ,  0.        ,  0.        ,  0.        ,  0.        ,\n",
              "        0.        ,  0.        ,  0.        , -0.        ,  0.        ,\n",
              "        0.        ,  0.        ,  0.        ,  0.        , -0.        ,\n",
              "        0.        ,  0.        ,  0.        ,  0.        ,  0.        ,\n",
              "        0.        , -0.        ,  0.        ,  0.        ,  0.        ,\n",
              "        0.        ,  0.        ,  0.        ,  0.        , -0.        ,\n",
              "        0.        ,  0.        ,  0.        ,  0.        ,  0.        ,\n",
              "        0.        ,  0.        ,  0.        ,  0.        , -0.        ,\n",
              "        0.        ,  0.        ,  0.        ,  0.        ,  0.        ,\n",
              "        0.        ,  0.        ,  0.        , -0.        ,  0.        ,\n",
              "        0.        ,  0.        ,  0.        , -0.        ,  0.        ,\n",
              "        0.        ,  0.        ,  0.        , -0.        , -0.        ,\n",
              "        0.        ,  0.        ,  0.        ,  0.        ,  0.        ,\n",
              "       -0.        , -0.        ,  0.        ,  0.        ,  0.        ,\n",
              "        0.        ,  0.        ,  0.        , -0.        , -0.        ,\n",
              "        0.        ,  0.        ,  0.        ,  0.        ,  0.        ,\n",
              "        0.        ,  0.        , -0.        , -0.        ,  0.        ,\n",
              "        0.        ,  0.        ,  0.        ,  0.        ,  0.        ,\n",
              "        0.        ,  0.        ,  0.        , -0.        ])"
            ]
          },
          "metadata": {},
          "execution_count": 65
        }
      ]
    },
    {
      "cell_type": "code",
      "source": [
        "#to decrease the mae and rmse , tune eps and max iter \n",
        "#L1_REGULARIZATION\n",
        "\n",
        "from sklearn.linear_model import LassoCV\n",
        "Lasso_model_1 = LassoCV(eps=0.001,n_alphas= 100,cv = 5,max_iter = 1000000)\n",
        "Lasso_model_1.fit(x_train,y_train)\n",
        "test_pred = Lasso_model_1.predict(x_test)\n",
        "mae3 = mean_absolute_error(y_test,test_pred)\n",
        "mse3 = mean_squared_error(y_test,test_pred)\n",
        "rmse3 = np.sqrt(mse3)"
      ],
      "metadata": {
        "id": "8AZMhvaupmhp"
      },
      "execution_count": 66,
      "outputs": []
    },
    {
      "cell_type": "code",
      "source": [
        "#we can reduce the mae and rmse by tuning for eps(retio of alpha_min/alpha_max)and max iteration\n",
        "print('mae',mae3)\n",
        "print('rmse',rmse3)\n",
        "Lasso_model_1.alpha_"
      ],
      "metadata": {
        "colab": {
          "base_uri": "https://localhost:8080/"
        },
        "id": "ruOMcHSiqdQR",
        "outputId": "cb6324da-860c-48ef-a461-2e78bc4d4bae"
      },
      "execution_count": 67,
      "outputs": [
        {
          "output_type": "stream",
          "name": "stdout",
          "text": [
            "mae 0.46690331672106583\n",
            "rmse 0.598217324921286\n"
          ]
        },
        {
          "output_type": "execute_result",
          "data": {
            "text/plain": [
              "0.005662014893553132"
            ]
          },
          "metadata": {},
          "execution_count": 67
        }
      ]
    },
    {
      "cell_type": "code",
      "source": [
        "#ElaticNet Regularization\n",
        "from sklearn.linear_model import ElasticNetCV\n",
        "elastic_model = ElasticNetCV(l1_ratio = [0.1,0.5,0.7,0.9,0.95,0.99,1],eps = 0.001,n_alphas = 100,max_iter = 1000000)\n",
        "elastic_model.fit(x_train,y_train)\n",
        "test_pred = elastic_model.predict(x_test)\n",
        "mae4 = mean_absolute_error(y_test,test_pred)\n",
        "mse4 = mean_squared_error(y_test,test_pred)\n",
        "rmse4 = np.sqrt(mse4)"
      ],
      "metadata": {
        "id": "Gf1B31SvqkYJ"
      },
      "execution_count": 68,
      "outputs": []
    },
    {
      "cell_type": "code",
      "source": [
        "print('mae',mae4)\n",
        "print('rmse',rmse4)\n",
        "elastic_model.alpha_"
      ],
      "metadata": {
        "colab": {
          "base_uri": "https://localhost:8080/"
        },
        "id": "s1Pxi0DxssCa",
        "outputId": "f7388d82-326a-4fe1-e966-d485c33c2f13"
      },
      "execution_count": 69,
      "outputs": [
        {
          "output_type": "stream",
          "name": "stdout",
          "text": [
            "mae 0.46690331672106583\n",
            "rmse 0.598217324921286\n"
          ]
        },
        {
          "output_type": "execute_result",
          "data": {
            "text/plain": [
              "0.005662014893553132"
            ]
          },
          "metadata": {},
          "execution_count": 69
        }
      ]
    }
  ]
}